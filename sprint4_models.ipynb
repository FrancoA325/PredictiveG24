{
 "cells": [
  {
   "cell_type": "markdown",
   "metadata": {},
   "source": [
    "## Sprint 4 Modeling"
   ]
  },
  {
   "cell_type": "code",
   "execution_count": 50,
   "metadata": {},
   "outputs": [],
   "source": [
    "import pandas as pd\n",
    "import numpy as np\n",
    "import matplotlib.pyplot as plt\n",
    "import seaborn as sns"
   ]
  },
  {
   "cell_type": "code",
   "execution_count": 51,
   "metadata": {},
   "outputs": [
    {
     "name": "stdout",
     "output_type": "stream",
     "text": [
      "(2215, 147)\n",
      "communityname             0\n",
      "state                     0\n",
      "countyCode             1221\n",
      "communityCode          1224\n",
      "fold                      0\n",
      "                       ... \n",
      "autoTheftPerPop           3\n",
      "arsons                   91\n",
      "arsonsPerPop             91\n",
      "ViolentCrimesPerPop     221\n",
      "nonViolPerPop            97\n",
      "Length: 147, dtype: int64\n",
      "0        41.02\n",
      "1       127.56\n",
      "2       218.59\n",
      "3       306.64\n",
      "5       442.95\n",
      "         ...  \n",
      "2210    545.75\n",
      "2211    124.10\n",
      "2212    353.83\n",
      "2213    691.17\n",
      "2214    918.89\n",
      "Name: ViolentCrimesPerPop, Length: 1994, dtype: float64\n",
      "   agePct12t29  PctLess9thGrade  PctNotHSGrad  PctBSorMore  population  \\\n",
      "0        21.44             5.81          9.90        48.18     11980.0   \n",
      "1        21.30             5.61         13.72        29.89     23123.0   \n",
      "2        25.88             2.80          9.09        30.13     29344.0   \n",
      "3        25.20            11.05         33.68        10.81     16656.0   \n",
      "5        32.89             8.76         23.03        20.66    140494.0   \n",
      "\n",
      "   murdPerPop  assaultPerPop  rapesPerPop  ViolentCrimesPerPop  \n",
      "0        0.00          32.81         0.00                41.02  \n",
      "1        0.00         102.05         4.25               127.56  \n",
      "2        8.30          38.74        16.60               218.59  \n",
      "3        0.00         190.93        57.86               306.64  \n",
      "5        4.63         297.29        50.98               442.95  \n"
     ]
    }
   ],
   "source": [
    "crime_in = pd.read_csv('crimedata2.csv')\n",
    "print(crime_in.shape)\n",
    "crime_in = crime_in.replace('?', np.nan)\n",
    "crime_in.head()\n",
    "\n",
    "print(crime_in.isnull().sum())\n",
    "# replace null values in ViolentCrimesPerPop with knn imputation\n",
    "from sklearn.impute import KNNImputer\n",
    "\n",
    "columns = ['agePct12t29', 'PctLess9thGrade', 'PctNotHSGrad', 'PctBSorMore', 'population', 'murdPerPop',\n",
    "           'assaultPerPop', 'rapesPerPop','ViolentCrimesPerPop']\n",
    "# imputer = KNNImputer(n_neighbors=3)\n",
    "# crime_in['ViolentCrimesPerPop'] = imputer.fit_transform(crime_in[['ViolentCrimesPerPop']])\n",
    "crime_in = crime_in.dropna(subset = ['ViolentCrimesPerPop'])\n",
    "crime_in[columns] = crime_in[columns].astype(float)\n",
    "print(crime_in['ViolentCrimesPerPop'])\n",
    "# convert columns to float\n",
    "crime_in = crime_in[columns].interpolate()\n",
    "print(crime_in.head())"
   ]
  },
  {
   "cell_type": "code",
   "execution_count": 52,
   "metadata": {},
   "outputs": [
    {
     "data": {
      "text/html": [
       "<div>\n",
       "<style scoped>\n",
       "    .dataframe tbody tr th:only-of-type {\n",
       "        vertical-align: middle;\n",
       "    }\n",
       "\n",
       "    .dataframe tbody tr th {\n",
       "        vertical-align: top;\n",
       "    }\n",
       "\n",
       "    .dataframe thead th {\n",
       "        text-align: right;\n",
       "    }\n",
       "</style>\n",
       "<table border=\"1\" class=\"dataframe\">\n",
       "  <thead>\n",
       "    <tr style=\"text-align: right;\">\n",
       "      <th></th>\n",
       "      <th>agePct12t29</th>\n",
       "      <th>PctLess9thGrade</th>\n",
       "      <th>PctNotHSGrad</th>\n",
       "      <th>PctBSorMore</th>\n",
       "      <th>population</th>\n",
       "      <th>murdPerPop</th>\n",
       "      <th>assaultPerPop</th>\n",
       "      <th>rapesPerPop</th>\n",
       "      <th>ViolentCrimesPerPop</th>\n",
       "      <th>size</th>\n",
       "    </tr>\n",
       "  </thead>\n",
       "  <tbody>\n",
       "    <tr>\n",
       "      <th>0</th>\n",
       "      <td>21.44</td>\n",
       "      <td>5.81</td>\n",
       "      <td>9.90</td>\n",
       "      <td>48.18</td>\n",
       "      <td>11980.0</td>\n",
       "      <td>0.00</td>\n",
       "      <td>32.81</td>\n",
       "      <td>0.00</td>\n",
       "      <td>41.02</td>\n",
       "      <td>small</td>\n",
       "    </tr>\n",
       "    <tr>\n",
       "      <th>1</th>\n",
       "      <td>21.30</td>\n",
       "      <td>5.61</td>\n",
       "      <td>13.72</td>\n",
       "      <td>29.89</td>\n",
       "      <td>23123.0</td>\n",
       "      <td>0.00</td>\n",
       "      <td>102.05</td>\n",
       "      <td>4.25</td>\n",
       "      <td>127.56</td>\n",
       "      <td>small</td>\n",
       "    </tr>\n",
       "    <tr>\n",
       "      <th>2</th>\n",
       "      <td>25.88</td>\n",
       "      <td>2.80</td>\n",
       "      <td>9.09</td>\n",
       "      <td>30.13</td>\n",
       "      <td>29344.0</td>\n",
       "      <td>8.30</td>\n",
       "      <td>38.74</td>\n",
       "      <td>16.60</td>\n",
       "      <td>218.59</td>\n",
       "      <td>medium</td>\n",
       "    </tr>\n",
       "    <tr>\n",
       "      <th>3</th>\n",
       "      <td>25.20</td>\n",
       "      <td>11.05</td>\n",
       "      <td>33.68</td>\n",
       "      <td>10.81</td>\n",
       "      <td>16656.0</td>\n",
       "      <td>0.00</td>\n",
       "      <td>190.93</td>\n",
       "      <td>57.86</td>\n",
       "      <td>306.64</td>\n",
       "      <td>small</td>\n",
       "    </tr>\n",
       "    <tr>\n",
       "      <th>5</th>\n",
       "      <td>32.89</td>\n",
       "      <td>8.76</td>\n",
       "      <td>23.03</td>\n",
       "      <td>20.66</td>\n",
       "      <td>140494.0</td>\n",
       "      <td>4.63</td>\n",
       "      <td>297.29</td>\n",
       "      <td>50.98</td>\n",
       "      <td>442.95</td>\n",
       "      <td>large</td>\n",
       "    </tr>\n",
       "  </tbody>\n",
       "</table>\n",
       "</div>"
      ],
      "text/plain": [
       "   agePct12t29  PctLess9thGrade  PctNotHSGrad  PctBSorMore  population  \\\n",
       "0        21.44             5.81          9.90        48.18     11980.0   \n",
       "1        21.30             5.61         13.72        29.89     23123.0   \n",
       "2        25.88             2.80          9.09        30.13     29344.0   \n",
       "3        25.20            11.05         33.68        10.81     16656.0   \n",
       "5        32.89             8.76         23.03        20.66    140494.0   \n",
       "\n",
       "   murdPerPop  assaultPerPop  rapesPerPop  ViolentCrimesPerPop    size  \n",
       "0        0.00          32.81         0.00                41.02   small  \n",
       "1        0.00         102.05         4.25               127.56   small  \n",
       "2        8.30          38.74        16.60               218.59  medium  \n",
       "3        0.00         190.93        57.86               306.64   small  \n",
       "5        4.63         297.29        50.98               442.95   large  "
      ]
     },
     "execution_count": 52,
     "metadata": {},
     "output_type": "execute_result"
    }
   ],
   "source": [
    "columns = ['agePct12t29', 'PctLess9thGrade', 'PctNotHSGrad', 'PctBSorMore', 'population', 'murdPerPop',\n",
    "           'assaultPerPop', 'rapesPerPop','ViolentCrimesPerPop']\n",
    "crime_in[columns] = crime_in[columns].astype(float)\n",
    "\n",
    "crime_in.loc[(crime_in['population'] >= 10000) & (crime_in['population'] < 25000), 'size'] = 'small'\n",
    "crime_in.loc[(crime_in['population'] >= 25001) & (crime_in['population'] < 50000), 'size'] = 'medium'\n",
    "crime_in.loc[(crime_in['population'] >= 50001) & (crime_in['population'] < 200000), 'size'] = 'large'\n",
    "crime_in.loc[crime_in['population'] >= 200000, 'size'] = 'superLarge'\n",
    "crime_in.head()"
   ]
  },
  {
   "cell_type": "code",
   "execution_count": 53,
   "metadata": {},
   "outputs": [],
   "source": [
    "columns = ['PctLess9thGrade', 'PctNotHSGrad', 'PctBSorMore', 'population', 'ViolentCrimesPerPop', 'size']\n",
    "crime_clean_set = crime_in[columns]"
   ]
  },
  {
   "cell_type": "code",
   "execution_count": 54,
   "metadata": {},
   "outputs": [
    {
     "name": "stderr",
     "output_type": "stream",
     "text": [
      "/var/folders/zp/xzl97jrj4bgfcnnjjm_hk2dc0000gn/T/ipykernel_70307/1410466126.py:1: SettingWithCopyWarning: \n",
      "A value is trying to be set on a copy of a slice from a DataFrame.\n",
      "Try using .loc[row_indexer,col_indexer] = value instead\n",
      "\n",
      "See the caveats in the documentation: https://pandas.pydata.org/pandas-docs/stable/user_guide/indexing.html#returning-a-view-versus-a-copy\n",
      "  crime_clean_set['ViolentCrimesCat'] = pd.cut(crime_clean_set['ViolentCrimesPerPop'], bins=3, labels=['low', 'medium', 'high'])\n"
     ]
    },
    {
     "data": {
      "text/plain": [
       "ViolentCrimesCat\n",
       "low       1853\n",
       "medium     129\n",
       "high        12\n",
       "Name: count, dtype: int64"
      ]
     },
     "execution_count": 54,
     "metadata": {},
     "output_type": "execute_result"
    }
   ],
   "source": [
    "crime_clean_set['ViolentCrimesCat'] = pd.cut(crime_clean_set['ViolentCrimesPerPop'], bins=3, labels=['low', 'medium', 'high'])\n",
    "crime_clean_set['ViolentCrimesCat'].value_counts()"
   ]
  },
  {
   "cell_type": "code",
   "execution_count": 55,
   "metadata": {},
   "outputs": [
    {
     "data": {
      "text/plain": [
       "((1595, 4), (399, 4), (1595,), (399,))"
      ]
     },
     "execution_count": 55,
     "metadata": {},
     "output_type": "execute_result"
    }
   ],
   "source": [
    "from sklearn.model_selection import train_test_split\n",
    "X = crime_clean_set.drop(columns=['ViolentCrimesPerPop', 'size', 'ViolentCrimesCat'])\n",
    "y = crime_clean_set['ViolentCrimesCat']\n",
    "X_train, X_test, y_train, y_test = train_test_split(X, y, test_size=0.20)\n",
    "X_train.shape, X_test.shape, y_train.shape, y_test.shape"
   ]
  },
  {
   "cell_type": "markdown",
   "metadata": {},
   "source": [
    "## DT CART"
   ]
  },
  {
   "cell_type": "code",
   "execution_count": 56,
   "metadata": {},
   "outputs": [],
   "source": [
    "# deciesion tree regression\n",
    "from sklearn.tree import DecisionTreeClassifier\n",
    "from sklearn.metrics import mean_squared_error\n",
    "\n",
    "# Train the model and fit to test data\n",
    "dt_cart = DecisionTreeClassifier().fit(X_train, y_train)\n",
    "y_pred = dt_cart.predict(X_test)"
   ]
  },
  {
   "cell_type": "markdown",
   "metadata": {},
   "source": [
    "## Decision Tree C5.0"
   ]
  },
  {
   "cell_type": "code",
   "execution_count": 57,
   "metadata": {},
   "outputs": [],
   "source": [
    "# Train the model and fit to test data\n",
    "from sklearn.tree import DecisionTreeClassifier\n",
    "dt_c50 = DecisionTreeClassifier(criterion = 'entropy').fit(X_train, y_train)\n",
    "y_pred = dt_c50.predict(X_test)"
   ]
  },
  {
   "cell_type": "markdown",
   "metadata": {},
   "source": [
    "## Random Forest"
   ]
  },
  {
   "cell_type": "code",
   "execution_count": 58,
   "metadata": {},
   "outputs": [],
   "source": [
    "# random forest regression\n",
    "from sklearn.ensemble import RandomForestClassifier\n",
    "from sklearn.metrics import mean_squared_error\n",
    "\n",
    "# Train the model and fit to test data\n",
    "rf = RandomForestClassifier().fit(X_train, y_train)\n",
    "y_pred = rf.predict(X_test)"
   ]
  }
 ],
 "metadata": {
  "kernelspec": {
   "display_name": "Python 3",
   "language": "python",
   "name": "python3"
  },
  "language_info": {
   "codemirror_mode": {
    "name": "ipython",
    "version": 3
   },
   "file_extension": ".py",
   "mimetype": "text/x-python",
   "name": "python",
   "nbconvert_exporter": "python",
   "pygments_lexer": "ipython3",
   "version": "3.11.7"
  }
 },
 "nbformat": 4,
 "nbformat_minor": 2
}
